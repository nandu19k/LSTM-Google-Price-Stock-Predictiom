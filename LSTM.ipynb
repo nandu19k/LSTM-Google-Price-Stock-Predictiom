{
  "nbformat": 4,
  "nbformat_minor": 0,
  "metadata": {
    "colab": {
      "name": "LSTM.ipynb",
      "provenance": []
    },
    "kernelspec": {
      "name": "python3",
      "display_name": "Python 3"
    },
    "accelerator": "GPU"
  },
  "cells": [
    {
      "cell_type": "code",
      "metadata": {
        "id": "6VlPJbgQ1CDl"
      },
      "source": [
        "import numpy as np\n",
        "import pandas as pd\n",
        "import matplotlib.pyplot as plt"
      ],
      "execution_count": 1,
      "outputs": []
    },
    {
      "cell_type": "code",
      "metadata": {
        "id": "UL2v6iwC1II7"
      },
      "source": [
        "dataset_train = pd.read_csv('Google_Stock_Price_Train.csv')"
      ],
      "execution_count": 2,
      "outputs": []
    },
    {
      "cell_type": "code",
      "metadata": {
        "id": "epE0O-Uz1RdU",
        "outputId": "c855875f-4bba-4ece-9261-638bcb86c74a",
        "colab": {
          "base_uri": "https://localhost:8080/",
          "height": 198
        }
      },
      "source": [
        "dataset_train.head()"
      ],
      "execution_count": 3,
      "outputs": [
        {
          "output_type": "execute_result",
          "data": {
            "text/html": [
              "<div>\n",
              "<style scoped>\n",
              "    .dataframe tbody tr th:only-of-type {\n",
              "        vertical-align: middle;\n",
              "    }\n",
              "\n",
              "    .dataframe tbody tr th {\n",
              "        vertical-align: top;\n",
              "    }\n",
              "\n",
              "    .dataframe thead th {\n",
              "        text-align: right;\n",
              "    }\n",
              "</style>\n",
              "<table border=\"1\" class=\"dataframe\">\n",
              "  <thead>\n",
              "    <tr style=\"text-align: right;\">\n",
              "      <th></th>\n",
              "      <th>Date</th>\n",
              "      <th>Open</th>\n",
              "      <th>High</th>\n",
              "      <th>Low</th>\n",
              "      <th>Close</th>\n",
              "      <th>Volume</th>\n",
              "    </tr>\n",
              "  </thead>\n",
              "  <tbody>\n",
              "    <tr>\n",
              "      <th>0</th>\n",
              "      <td>1/3/2012</td>\n",
              "      <td>325.25</td>\n",
              "      <td>332.83</td>\n",
              "      <td>324.97</td>\n",
              "      <td>663.59</td>\n",
              "      <td>7,380,500</td>\n",
              "    </tr>\n",
              "    <tr>\n",
              "      <th>1</th>\n",
              "      <td>1/4/2012</td>\n",
              "      <td>331.27</td>\n",
              "      <td>333.87</td>\n",
              "      <td>329.08</td>\n",
              "      <td>666.45</td>\n",
              "      <td>5,749,400</td>\n",
              "    </tr>\n",
              "    <tr>\n",
              "      <th>2</th>\n",
              "      <td>1/5/2012</td>\n",
              "      <td>329.83</td>\n",
              "      <td>330.75</td>\n",
              "      <td>326.89</td>\n",
              "      <td>657.21</td>\n",
              "      <td>6,590,300</td>\n",
              "    </tr>\n",
              "    <tr>\n",
              "      <th>3</th>\n",
              "      <td>1/6/2012</td>\n",
              "      <td>328.34</td>\n",
              "      <td>328.77</td>\n",
              "      <td>323.68</td>\n",
              "      <td>648.24</td>\n",
              "      <td>5,405,900</td>\n",
              "    </tr>\n",
              "    <tr>\n",
              "      <th>4</th>\n",
              "      <td>1/9/2012</td>\n",
              "      <td>322.04</td>\n",
              "      <td>322.29</td>\n",
              "      <td>309.46</td>\n",
              "      <td>620.76</td>\n",
              "      <td>11,688,800</td>\n",
              "    </tr>\n",
              "  </tbody>\n",
              "</table>\n",
              "</div>"
            ],
            "text/plain": [
              "       Date    Open    High     Low   Close      Volume\n",
              "0  1/3/2012  325.25  332.83  324.97  663.59   7,380,500\n",
              "1  1/4/2012  331.27  333.87  329.08  666.45   5,749,400\n",
              "2  1/5/2012  329.83  330.75  326.89  657.21   6,590,300\n",
              "3  1/6/2012  328.34  328.77  323.68  648.24   5,405,900\n",
              "4  1/9/2012  322.04  322.29  309.46  620.76  11,688,800"
            ]
          },
          "metadata": {
            "tags": []
          },
          "execution_count": 3
        }
      ]
    },
    {
      "cell_type": "code",
      "metadata": {
        "id": "XIiRceLZ1Wv0",
        "outputId": "fab2042a-3345-4b1a-8e06-ef3d04178cfe",
        "colab": {
          "base_uri": "https://localhost:8080/",
          "height": 145
        }
      },
      "source": [
        "dataset_train.isna().sum()"
      ],
      "execution_count": 4,
      "outputs": [
        {
          "output_type": "execute_result",
          "data": {
            "text/plain": [
              "Date      0\n",
              "Open      0\n",
              "High      0\n",
              "Low       0\n",
              "Close     0\n",
              "Volume    0\n",
              "dtype: int64"
            ]
          },
          "metadata": {
            "tags": []
          },
          "execution_count": 4
        }
      ]
    },
    {
      "cell_type": "code",
      "metadata": {
        "id": "pAXqPcDi1bnQ"
      },
      "source": [
        "X = dataset_train.iloc[: , 1:2].values"
      ],
      "execution_count": 5,
      "outputs": []
    },
    {
      "cell_type": "code",
      "metadata": {
        "id": "-mcBsCdK1icL"
      },
      "source": [
        "from sklearn.preprocessing import MinMaxScaler\n",
        "sc = MinMaxScaler()\n",
        "X = sc.fit_transform(X)"
      ],
      "execution_count": 6,
      "outputs": []
    },
    {
      "cell_type": "code",
      "metadata": {
        "id": "hEiiwNIp1uSZ"
      },
      "source": [
        "x_train = []\n",
        "y_train = []\n",
        "for i in range(60 ,1258 ):\n",
        "  x_train.append(X[i-60:i,0])\n",
        "  y_train.append(X[i,0])"
      ],
      "execution_count": 8,
      "outputs": []
    },
    {
      "cell_type": "code",
      "metadata": {
        "id": "uuuBaDSC2EVF"
      },
      "source": [
        "x_train = np.array(x_train)\n",
        "y_train = np.array(y_train)"
      ],
      "execution_count": 9,
      "outputs": []
    },
    {
      "cell_type": "code",
      "metadata": {
        "id": "nfj-g0o312b5",
        "outputId": "2b06b9ea-5630-401c-c189-49ad212f3c9a",
        "colab": {
          "base_uri": "https://localhost:8080/",
          "height": 35
        }
      },
      "source": [
        "X.shape"
      ],
      "execution_count": 7,
      "outputs": [
        {
          "output_type": "execute_result",
          "data": {
            "text/plain": [
              "(1258, 1)"
            ]
          },
          "metadata": {
            "tags": []
          },
          "execution_count": 7
        }
      ]
    },
    {
      "cell_type": "code",
      "metadata": {
        "id": "xWS1PI7g2N6S"
      },
      "source": [
        "x_train = np.reshape(x_train , (x_train.shape[0] , x_train.shape[1],1))"
      ],
      "execution_count": 10,
      "outputs": []
    },
    {
      "cell_type": "code",
      "metadata": {
        "id": "mrkGwTr02ZUZ",
        "outputId": "1d08ea76-3c3a-4226-fefe-45b6edc2e6e5",
        "colab": {
          "base_uri": "https://localhost:8080/",
          "height": 35
        }
      },
      "source": [
        "x_train.shape"
      ],
      "execution_count": 11,
      "outputs": [
        {
          "output_type": "execute_result",
          "data": {
            "text/plain": [
              "(1198, 60, 1)"
            ]
          },
          "metadata": {
            "tags": []
          },
          "execution_count": 11
        }
      ]
    },
    {
      "cell_type": "code",
      "metadata": {
        "id": "qU4p5mTY2ttW"
      },
      "source": [
        "from keras.models import Sequential\n",
        "from keras.layers import Dense\n",
        "from keras.layers import LSTM\n",
        "from keras.layers import Dropout"
      ],
      "execution_count": 12,
      "outputs": []
    },
    {
      "cell_type": "code",
      "metadata": {
        "id": "_o2usYUZ3GlM"
      },
      "source": [
        "regressor  = Sequential()\n",
        "regressor.add(LSTM(units=50 , return_sequences=True, input_shape = (x_train.shape[1] , 1)))\n",
        "regressor.add(Dropout(rate=0.2))\n",
        "regressor.add(LSTM(units=50 , return_sequences=True))\n",
        "regressor.add(Dropout(0.2))\n",
        "regressor.add(LSTM(units=50 , return_sequences=True))\n",
        "regressor.add(Dropout(0.1))"
      ],
      "execution_count": 13,
      "outputs": []
    },
    {
      "cell_type": "code",
      "metadata": {
        "id": "sR9D6ch43z9Q"
      },
      "source": [
        "regressor.add(LSTM(units=50))\n",
        "regressor.add(Dropout(0.2))\n",
        "regressor.add(Dense(units=1))"
      ],
      "execution_count": 14,
      "outputs": []
    },
    {
      "cell_type": "code",
      "metadata": {
        "id": "O8qpnhYC3_vW"
      },
      "source": [
        "regressor.compile(optimizer='adam' , loss='mean_squared_error')"
      ],
      "execution_count": 15,
      "outputs": []
    },
    {
      "cell_type": "code",
      "metadata": {
        "id": "ob3E4vL14I5y",
        "outputId": "5c59eed1-622e-431d-81e1-8991f606d33c",
        "colab": {
          "base_uri": "https://localhost:8080/",
          "height": 1000
        }
      },
      "source": [
        "regressor.fit(x_train , y_train , epochs=200,batch_size=32)"
      ],
      "execution_count": 16,
      "outputs": [
        {
          "output_type": "stream",
          "text": [
            "Epoch 1/200\n",
            "38/38 [==============================] - 1s 14ms/step - loss: 0.0478\n",
            "Epoch 2/200\n",
            "38/38 [==============================] - 1s 13ms/step - loss: 0.0057\n",
            "Epoch 3/200\n",
            "38/38 [==============================] - 1s 13ms/step - loss: 0.0052\n",
            "Epoch 4/200\n",
            "38/38 [==============================] - 0s 13ms/step - loss: 0.0050\n",
            "Epoch 5/200\n",
            "38/38 [==============================] - 0s 13ms/step - loss: 0.0046\n",
            "Epoch 6/200\n",
            "38/38 [==============================] - 0s 13ms/step - loss: 0.0045\n",
            "Epoch 7/200\n",
            "38/38 [==============================] - 0s 13ms/step - loss: 0.0041\n",
            "Epoch 8/200\n",
            "38/38 [==============================] - 1s 13ms/step - loss: 0.0048\n",
            "Epoch 9/200\n",
            "38/38 [==============================] - 1s 13ms/step - loss: 0.0042\n",
            "Epoch 10/200\n",
            "38/38 [==============================] - 1s 13ms/step - loss: 0.0042\n",
            "Epoch 11/200\n",
            "38/38 [==============================] - 1s 13ms/step - loss: 0.0047\n",
            "Epoch 12/200\n",
            "38/38 [==============================] - 1s 13ms/step - loss: 0.0043\n",
            "Epoch 13/200\n",
            "38/38 [==============================] - 0s 13ms/step - loss: 0.0042\n",
            "Epoch 14/200\n",
            "38/38 [==============================] - 1s 13ms/step - loss: 0.0042\n",
            "Epoch 15/200\n",
            "38/38 [==============================] - 0s 13ms/step - loss: 0.0039\n",
            "Epoch 16/200\n",
            "38/38 [==============================] - 0s 13ms/step - loss: 0.0034\n",
            "Epoch 17/200\n",
            "38/38 [==============================] - 0s 13ms/step - loss: 0.0037\n",
            "Epoch 18/200\n",
            "38/38 [==============================] - 0s 13ms/step - loss: 0.0039\n",
            "Epoch 19/200\n",
            "38/38 [==============================] - 1s 13ms/step - loss: 0.0033\n",
            "Epoch 20/200\n",
            "38/38 [==============================] - 1s 13ms/step - loss: 0.0032\n",
            "Epoch 21/200\n",
            "38/38 [==============================] - 0s 13ms/step - loss: 0.0031\n",
            "Epoch 22/200\n",
            "38/38 [==============================] - 0s 13ms/step - loss: 0.0039\n",
            "Epoch 23/200\n",
            "38/38 [==============================] - 0s 13ms/step - loss: 0.0032\n",
            "Epoch 24/200\n",
            "38/38 [==============================] - 1s 13ms/step - loss: 0.0030\n",
            "Epoch 25/200\n",
            "38/38 [==============================] - 0s 13ms/step - loss: 0.0033\n",
            "Epoch 26/200\n",
            "38/38 [==============================] - 0s 13ms/step - loss: 0.0034\n",
            "Epoch 27/200\n",
            "38/38 [==============================] - 0s 13ms/step - loss: 0.0030\n",
            "Epoch 28/200\n",
            "38/38 [==============================] - 1s 13ms/step - loss: 0.0030\n",
            "Epoch 29/200\n",
            "38/38 [==============================] - 0s 13ms/step - loss: 0.0028\n",
            "Epoch 30/200\n",
            "38/38 [==============================] - 0s 13ms/step - loss: 0.0031\n",
            "Epoch 31/200\n",
            "38/38 [==============================] - 1s 13ms/step - loss: 0.0029\n",
            "Epoch 32/200\n",
            "38/38 [==============================] - 0s 13ms/step - loss: 0.0028\n",
            "Epoch 33/200\n",
            "38/38 [==============================] - 0s 13ms/step - loss: 0.0027\n",
            "Epoch 34/200\n",
            "38/38 [==============================] - 0s 13ms/step - loss: 0.0028\n",
            "Epoch 35/200\n",
            "38/38 [==============================] - 0s 13ms/step - loss: 0.0028\n",
            "Epoch 36/200\n",
            "38/38 [==============================] - 1s 13ms/step - loss: 0.0028\n",
            "Epoch 37/200\n",
            "38/38 [==============================] - 0s 13ms/step - loss: 0.0026\n",
            "Epoch 38/200\n",
            "38/38 [==============================] - 0s 13ms/step - loss: 0.0039\n",
            "Epoch 39/200\n",
            "38/38 [==============================] - 0s 13ms/step - loss: 0.0032\n",
            "Epoch 40/200\n",
            "38/38 [==============================] - 1s 13ms/step - loss: 0.0028\n",
            "Epoch 41/200\n",
            "38/38 [==============================] - 1s 16ms/step - loss: 0.0026\n",
            "Epoch 42/200\n",
            "38/38 [==============================] - 0s 13ms/step - loss: 0.0027\n",
            "Epoch 43/200\n",
            "38/38 [==============================] - 0s 13ms/step - loss: 0.0024\n",
            "Epoch 44/200\n",
            "38/38 [==============================] - 0s 13ms/step - loss: 0.0027\n",
            "Epoch 45/200\n",
            "38/38 [==============================] - 0s 13ms/step - loss: 0.0025\n",
            "Epoch 46/200\n",
            "38/38 [==============================] - 0s 13ms/step - loss: 0.0026\n",
            "Epoch 47/200\n",
            "38/38 [==============================] - 0s 13ms/step - loss: 0.0027\n",
            "Epoch 48/200\n",
            "38/38 [==============================] - 0s 13ms/step - loss: 0.0025\n",
            "Epoch 49/200\n",
            "38/38 [==============================] - 0s 13ms/step - loss: 0.0026\n",
            "Epoch 50/200\n",
            "38/38 [==============================] - 0s 13ms/step - loss: 0.0027\n",
            "Epoch 51/200\n",
            "38/38 [==============================] - 0s 13ms/step - loss: 0.0022\n",
            "Epoch 52/200\n",
            "38/38 [==============================] - 0s 13ms/step - loss: 0.0022\n",
            "Epoch 53/200\n",
            "38/38 [==============================] - 1s 13ms/step - loss: 0.0025\n",
            "Epoch 54/200\n",
            "38/38 [==============================] - 0s 13ms/step - loss: 0.0024\n",
            "Epoch 55/200\n",
            "38/38 [==============================] - 0s 13ms/step - loss: 0.0022\n",
            "Epoch 56/200\n",
            "38/38 [==============================] - 0s 13ms/step - loss: 0.0020\n",
            "Epoch 57/200\n",
            "38/38 [==============================] - 0s 13ms/step - loss: 0.0020\n",
            "Epoch 58/200\n",
            "38/38 [==============================] - 0s 13ms/step - loss: 0.0023\n",
            "Epoch 59/200\n",
            "38/38 [==============================] - 0s 13ms/step - loss: 0.0022\n",
            "Epoch 60/200\n",
            "38/38 [==============================] - 1s 13ms/step - loss: 0.0021\n",
            "Epoch 61/200\n",
            "38/38 [==============================] - 0s 13ms/step - loss: 0.0022\n",
            "Epoch 62/200\n",
            "38/38 [==============================] - 0s 13ms/step - loss: 0.0021\n",
            "Epoch 63/200\n",
            "38/38 [==============================] - 0s 13ms/step - loss: 0.0020\n",
            "Epoch 64/200\n",
            "38/38 [==============================] - 0s 13ms/step - loss: 0.0019\n",
            "Epoch 65/200\n",
            "38/38 [==============================] - 1s 13ms/step - loss: 0.0020\n",
            "Epoch 66/200\n",
            "38/38 [==============================] - 1s 13ms/step - loss: 0.0019\n",
            "Epoch 67/200\n",
            "38/38 [==============================] - 0s 13ms/step - loss: 0.0020\n",
            "Epoch 68/200\n",
            "38/38 [==============================] - 0s 13ms/step - loss: 0.0020\n",
            "Epoch 69/200\n",
            "38/38 [==============================] - 0s 13ms/step - loss: 0.0018\n",
            "Epoch 70/200\n",
            "38/38 [==============================] - 0s 13ms/step - loss: 0.0018\n",
            "Epoch 71/200\n",
            "38/38 [==============================] - 0s 13ms/step - loss: 0.0019\n",
            "Epoch 72/200\n",
            "38/38 [==============================] - 0s 13ms/step - loss: 0.0019\n",
            "Epoch 73/200\n",
            "38/38 [==============================] - 1s 13ms/step - loss: 0.0018\n",
            "Epoch 74/200\n",
            "38/38 [==============================] - 0s 13ms/step - loss: 0.0018\n",
            "Epoch 75/200\n",
            "38/38 [==============================] - 0s 13ms/step - loss: 0.0018\n",
            "Epoch 76/200\n",
            "38/38 [==============================] - 0s 13ms/step - loss: 0.0016\n",
            "Epoch 77/200\n",
            "38/38 [==============================] - 0s 13ms/step - loss: 0.0018\n",
            "Epoch 78/200\n",
            "38/38 [==============================] - 0s 13ms/step - loss: 0.0018\n",
            "Epoch 79/200\n",
            "38/38 [==============================] - 1s 13ms/step - loss: 0.0019\n",
            "Epoch 80/200\n",
            "38/38 [==============================] - 0s 13ms/step - loss: 0.0019\n",
            "Epoch 81/200\n",
            "38/38 [==============================] - 1s 13ms/step - loss: 0.0018\n",
            "Epoch 82/200\n",
            "38/38 [==============================] - 1s 13ms/step - loss: 0.0017\n",
            "Epoch 83/200\n",
            "38/38 [==============================] - 0s 13ms/step - loss: 0.0016\n",
            "Epoch 84/200\n",
            "38/38 [==============================] - 0s 13ms/step - loss: 0.0016\n",
            "Epoch 85/200\n",
            "38/38 [==============================] - 0s 13ms/step - loss: 0.0017\n",
            "Epoch 86/200\n",
            "38/38 [==============================] - 0s 13ms/step - loss: 0.0016\n",
            "Epoch 87/200\n",
            "38/38 [==============================] - 0s 13ms/step - loss: 0.0017\n",
            "Epoch 88/200\n",
            "38/38 [==============================] - 0s 13ms/step - loss: 0.0016\n",
            "Epoch 89/200\n",
            "38/38 [==============================] - 0s 13ms/step - loss: 0.0016\n",
            "Epoch 90/200\n",
            "38/38 [==============================] - 0s 13ms/step - loss: 0.0017\n",
            "Epoch 91/200\n",
            "38/38 [==============================] - 0s 13ms/step - loss: 0.0018\n",
            "Epoch 92/200\n",
            "38/38 [==============================] - 0s 13ms/step - loss: 0.0015\n",
            "Epoch 93/200\n",
            "38/38 [==============================] - 0s 13ms/step - loss: 0.0013\n",
            "Epoch 94/200\n",
            "38/38 [==============================] - 1s 13ms/step - loss: 0.0015\n",
            "Epoch 95/200\n",
            "38/38 [==============================] - 0s 13ms/step - loss: 0.0015\n",
            "Epoch 96/200\n",
            "38/38 [==============================] - 0s 13ms/step - loss: 0.0017\n",
            "Epoch 97/200\n",
            "38/38 [==============================] - 0s 13ms/step - loss: 0.0016\n",
            "Epoch 98/200\n",
            "38/38 [==============================] - 0s 13ms/step - loss: 0.0015\n",
            "Epoch 99/200\n",
            "38/38 [==============================] - 0s 13ms/step - loss: 0.0015\n",
            "Epoch 100/200\n",
            "38/38 [==============================] - 0s 13ms/step - loss: 0.0015\n",
            "Epoch 101/200\n",
            "38/38 [==============================] - 0s 13ms/step - loss: 0.0015\n",
            "Epoch 102/200\n",
            "38/38 [==============================] - 0s 13ms/step - loss: 0.0015\n",
            "Epoch 103/200\n",
            "38/38 [==============================] - 0s 13ms/step - loss: 0.0017\n",
            "Epoch 104/200\n",
            "38/38 [==============================] - 0s 13ms/step - loss: 0.0016\n",
            "Epoch 105/200\n",
            "38/38 [==============================] - 0s 13ms/step - loss: 0.0014\n",
            "Epoch 106/200\n",
            "38/38 [==============================] - 0s 13ms/step - loss: 0.0015\n",
            "Epoch 107/200\n",
            "38/38 [==============================] - 0s 13ms/step - loss: 0.0013\n",
            "Epoch 108/200\n",
            "38/38 [==============================] - 0s 13ms/step - loss: 0.0014\n",
            "Epoch 109/200\n",
            "38/38 [==============================] - 0s 13ms/step - loss: 0.0014\n",
            "Epoch 110/200\n",
            "38/38 [==============================] - 0s 13ms/step - loss: 0.0015\n",
            "Epoch 111/200\n",
            "38/38 [==============================] - 0s 13ms/step - loss: 0.0013\n",
            "Epoch 112/200\n",
            "38/38 [==============================] - 0s 13ms/step - loss: 0.0013\n",
            "Epoch 113/200\n",
            "38/38 [==============================] - 0s 13ms/step - loss: 0.0012\n",
            "Epoch 114/200\n",
            "38/38 [==============================] - 0s 13ms/step - loss: 0.0013\n",
            "Epoch 115/200\n",
            "38/38 [==============================] - 1s 13ms/step - loss: 0.0012\n",
            "Epoch 116/200\n",
            "38/38 [==============================] - 0s 13ms/step - loss: 0.0015\n",
            "Epoch 117/200\n",
            "38/38 [==============================] - 1s 13ms/step - loss: 0.0014\n",
            "Epoch 118/200\n",
            "38/38 [==============================] - 0s 13ms/step - loss: 0.0014\n",
            "Epoch 119/200\n",
            "38/38 [==============================] - 0s 13ms/step - loss: 0.0012\n",
            "Epoch 120/200\n",
            "38/38 [==============================] - 0s 13ms/step - loss: 0.0012\n",
            "Epoch 121/200\n",
            "38/38 [==============================] - 0s 13ms/step - loss: 0.0013\n",
            "Epoch 122/200\n",
            "38/38 [==============================] - 0s 13ms/step - loss: 0.0014\n",
            "Epoch 123/200\n",
            "38/38 [==============================] - 1s 14ms/step - loss: 0.0014\n",
            "Epoch 124/200\n",
            "38/38 [==============================] - 0s 13ms/step - loss: 0.0014\n",
            "Epoch 125/200\n",
            "38/38 [==============================] - 0s 13ms/step - loss: 0.0014\n",
            "Epoch 126/200\n",
            "38/38 [==============================] - 0s 13ms/step - loss: 0.0012\n",
            "Epoch 127/200\n",
            "38/38 [==============================] - 0s 13ms/step - loss: 0.0014\n",
            "Epoch 128/200\n",
            "38/38 [==============================] - 0s 13ms/step - loss: 0.0012\n",
            "Epoch 129/200\n",
            "38/38 [==============================] - 0s 13ms/step - loss: 0.0011\n",
            "Epoch 130/200\n",
            "38/38 [==============================] - 0s 13ms/step - loss: 0.0012\n",
            "Epoch 131/200\n",
            "38/38 [==============================] - 0s 13ms/step - loss: 0.0013\n",
            "Epoch 132/200\n",
            "38/38 [==============================] - 0s 13ms/step - loss: 0.0013\n",
            "Epoch 133/200\n",
            "38/38 [==============================] - 0s 13ms/step - loss: 0.0011\n",
            "Epoch 134/200\n",
            "38/38 [==============================] - 0s 13ms/step - loss: 0.0014\n",
            "Epoch 135/200\n",
            "38/38 [==============================] - 0s 13ms/step - loss: 0.0011\n",
            "Epoch 136/200\n",
            "38/38 [==============================] - 0s 13ms/step - loss: 0.0013\n",
            "Epoch 137/200\n",
            "38/38 [==============================] - 0s 13ms/step - loss: 0.0012\n",
            "Epoch 138/200\n",
            "38/38 [==============================] - 0s 13ms/step - loss: 0.0011\n",
            "Epoch 139/200\n",
            "38/38 [==============================] - 0s 13ms/step - loss: 0.0012\n",
            "Epoch 140/200\n",
            "38/38 [==============================] - 0s 13ms/step - loss: 0.0011\n",
            "Epoch 141/200\n",
            "38/38 [==============================] - 0s 13ms/step - loss: 0.0012\n",
            "Epoch 142/200\n",
            "38/38 [==============================] - 0s 13ms/step - loss: 0.0010\n",
            "Epoch 143/200\n",
            "38/38 [==============================] - 0s 13ms/step - loss: 0.0012\n",
            "Epoch 144/200\n",
            "38/38 [==============================] - 0s 13ms/step - loss: 0.0011\n",
            "Epoch 145/200\n",
            "38/38 [==============================] - 0s 13ms/step - loss: 0.0011\n",
            "Epoch 146/200\n",
            "38/38 [==============================] - 0s 13ms/step - loss: 0.0012\n",
            "Epoch 147/200\n",
            "38/38 [==============================] - 0s 13ms/step - loss: 0.0011\n",
            "Epoch 148/200\n",
            "38/38 [==============================] - 0s 13ms/step - loss: 0.0011\n",
            "Epoch 149/200\n",
            "38/38 [==============================] - 0s 13ms/step - loss: 0.0011\n",
            "Epoch 150/200\n",
            "38/38 [==============================] - 0s 13ms/step - loss: 0.0012\n",
            "Epoch 151/200\n",
            "38/38 [==============================] - 0s 13ms/step - loss: 0.0012\n",
            "Epoch 152/200\n",
            "38/38 [==============================] - 0s 13ms/step - loss: 0.0011\n",
            "Epoch 153/200\n",
            "38/38 [==============================] - 0s 13ms/step - loss: 0.0010\n",
            "Epoch 154/200\n",
            "38/38 [==============================] - 0s 13ms/step - loss: 0.0012\n",
            "Epoch 155/200\n",
            "38/38 [==============================] - 1s 13ms/step - loss: 0.0011\n",
            "Epoch 156/200\n",
            "38/38 [==============================] - 0s 13ms/step - loss: 0.0011\n",
            "Epoch 157/200\n",
            "38/38 [==============================] - 1s 13ms/step - loss: 0.0011\n",
            "Epoch 158/200\n",
            "38/38 [==============================] - 0s 13ms/step - loss: 0.0010\n",
            "Epoch 159/200\n",
            "38/38 [==============================] - 0s 13ms/step - loss: 0.0012\n",
            "Epoch 160/200\n",
            "38/38 [==============================] - 0s 13ms/step - loss: 0.0011\n",
            "Epoch 161/200\n",
            "38/38 [==============================] - 0s 13ms/step - loss: 0.0011\n",
            "Epoch 162/200\n",
            "38/38 [==============================] - 0s 13ms/step - loss: 0.0010\n",
            "Epoch 163/200\n",
            "38/38 [==============================] - 0s 13ms/step - loss: 9.9875e-04\n",
            "Epoch 164/200\n",
            "38/38 [==============================] - 0s 13ms/step - loss: 0.0011\n",
            "Epoch 165/200\n",
            "38/38 [==============================] - 0s 13ms/step - loss: 0.0011\n",
            "Epoch 166/200\n",
            "38/38 [==============================] - 0s 13ms/step - loss: 0.0011\n",
            "Epoch 167/200\n",
            "38/38 [==============================] - 0s 13ms/step - loss: 9.0870e-04\n",
            "Epoch 168/200\n",
            "38/38 [==============================] - 0s 13ms/step - loss: 0.0010\n",
            "Epoch 169/200\n",
            "38/38 [==============================] - 0s 13ms/step - loss: 9.3428e-04\n",
            "Epoch 170/200\n",
            "38/38 [==============================] - 0s 13ms/step - loss: 9.5336e-04\n",
            "Epoch 171/200\n",
            "38/38 [==============================] - 0s 13ms/step - loss: 9.6116e-04\n",
            "Epoch 172/200\n",
            "38/38 [==============================] - 0s 13ms/step - loss: 0.0011\n",
            "Epoch 173/200\n",
            "38/38 [==============================] - 0s 13ms/step - loss: 9.9993e-04\n",
            "Epoch 174/200\n",
            "38/38 [==============================] - 0s 13ms/step - loss: 9.9855e-04\n",
            "Epoch 175/200\n",
            "38/38 [==============================] - 0s 13ms/step - loss: 0.0010\n",
            "Epoch 176/200\n",
            "38/38 [==============================] - 0s 13ms/step - loss: 0.0010\n",
            "Epoch 177/200\n",
            "38/38 [==============================] - 1s 13ms/step - loss: 0.0010\n",
            "Epoch 178/200\n",
            "38/38 [==============================] - 0s 13ms/step - loss: 9.9283e-04\n",
            "Epoch 179/200\n",
            "38/38 [==============================] - 0s 13ms/step - loss: 0.0010\n",
            "Epoch 180/200\n",
            "38/38 [==============================] - 0s 13ms/step - loss: 0.0010\n",
            "Epoch 181/200\n",
            "38/38 [==============================] - 1s 13ms/step - loss: 0.0010\n",
            "Epoch 182/200\n",
            "38/38 [==============================] - 0s 13ms/step - loss: 0.0010\n",
            "Epoch 183/200\n",
            "38/38 [==============================] - 0s 13ms/step - loss: 9.8732e-04\n",
            "Epoch 184/200\n",
            "38/38 [==============================] - 0s 13ms/step - loss: 0.0011\n",
            "Epoch 185/200\n",
            "38/38 [==============================] - 1s 13ms/step - loss: 9.2864e-04\n",
            "Epoch 186/200\n",
            "38/38 [==============================] - 0s 13ms/step - loss: 9.9609e-04\n",
            "Epoch 187/200\n",
            "38/38 [==============================] - 0s 13ms/step - loss: 0.0011\n",
            "Epoch 188/200\n",
            "38/38 [==============================] - 0s 13ms/step - loss: 9.8604e-04\n",
            "Epoch 189/200\n",
            "38/38 [==============================] - 0s 13ms/step - loss: 9.3539e-04\n",
            "Epoch 190/200\n",
            "38/38 [==============================] - 0s 13ms/step - loss: 9.5082e-04\n",
            "Epoch 191/200\n",
            "38/38 [==============================] - 0s 13ms/step - loss: 8.5455e-04\n",
            "Epoch 192/200\n",
            "38/38 [==============================] - 0s 13ms/step - loss: 0.0010\n",
            "Epoch 193/200\n",
            "38/38 [==============================] - 0s 13ms/step - loss: 9.5352e-04\n",
            "Epoch 194/200\n",
            "38/38 [==============================] - 0s 13ms/step - loss: 9.8991e-04\n",
            "Epoch 195/200\n",
            "38/38 [==============================] - 0s 13ms/step - loss: 0.0011\n",
            "Epoch 196/200\n",
            "38/38 [==============================] - 0s 13ms/step - loss: 0.0011\n",
            "Epoch 197/200\n",
            "38/38 [==============================] - 0s 13ms/step - loss: 9.9644e-04\n",
            "Epoch 198/200\n",
            "38/38 [==============================] - 0s 13ms/step - loss: 0.0010\n",
            "Epoch 199/200\n",
            "38/38 [==============================] - 0s 13ms/step - loss: 0.0011\n",
            "Epoch 200/200\n",
            "38/38 [==============================] - 0s 13ms/step - loss: 0.0011\n"
          ],
          "name": "stdout"
        },
        {
          "output_type": "execute_result",
          "data": {
            "text/plain": [
              "<tensorflow.python.keras.callbacks.History at 0x7fcb95f965c0>"
            ]
          },
          "metadata": {
            "tags": []
          },
          "execution_count": 16
        }
      ]
    },
    {
      "cell_type": "code",
      "metadata": {
        "id": "lCxEa9hY5Bid"
      },
      "source": [
        "dataset_test = pd.read_csv('Google_Stock_Price_Test.csv')"
      ],
      "execution_count": 17,
      "outputs": []
    },
    {
      "cell_type": "code",
      "metadata": {
        "id": "If53q-kp5GEW",
        "outputId": "fad22ff3-c8eb-447d-98cc-d8230cfb94c3",
        "colab": {
          "base_uri": "https://localhost:8080/",
          "height": 198
        }
      },
      "source": [
        "dataset_test.head()"
      ],
      "execution_count": 18,
      "outputs": [
        {
          "output_type": "execute_result",
          "data": {
            "text/html": [
              "<div>\n",
              "<style scoped>\n",
              "    .dataframe tbody tr th:only-of-type {\n",
              "        vertical-align: middle;\n",
              "    }\n",
              "\n",
              "    .dataframe tbody tr th {\n",
              "        vertical-align: top;\n",
              "    }\n",
              "\n",
              "    .dataframe thead th {\n",
              "        text-align: right;\n",
              "    }\n",
              "</style>\n",
              "<table border=\"1\" class=\"dataframe\">\n",
              "  <thead>\n",
              "    <tr style=\"text-align: right;\">\n",
              "      <th></th>\n",
              "      <th>Date</th>\n",
              "      <th>Open</th>\n",
              "      <th>High</th>\n",
              "      <th>Low</th>\n",
              "      <th>Close</th>\n",
              "      <th>Volume</th>\n",
              "    </tr>\n",
              "  </thead>\n",
              "  <tbody>\n",
              "    <tr>\n",
              "      <th>0</th>\n",
              "      <td>1/3/2017</td>\n",
              "      <td>778.81</td>\n",
              "      <td>789.63</td>\n",
              "      <td>775.80</td>\n",
              "      <td>786.14</td>\n",
              "      <td>1,657,300</td>\n",
              "    </tr>\n",
              "    <tr>\n",
              "      <th>1</th>\n",
              "      <td>1/4/2017</td>\n",
              "      <td>788.36</td>\n",
              "      <td>791.34</td>\n",
              "      <td>783.16</td>\n",
              "      <td>786.90</td>\n",
              "      <td>1,073,000</td>\n",
              "    </tr>\n",
              "    <tr>\n",
              "      <th>2</th>\n",
              "      <td>1/5/2017</td>\n",
              "      <td>786.08</td>\n",
              "      <td>794.48</td>\n",
              "      <td>785.02</td>\n",
              "      <td>794.02</td>\n",
              "      <td>1,335,200</td>\n",
              "    </tr>\n",
              "    <tr>\n",
              "      <th>3</th>\n",
              "      <td>1/6/2017</td>\n",
              "      <td>795.26</td>\n",
              "      <td>807.90</td>\n",
              "      <td>792.20</td>\n",
              "      <td>806.15</td>\n",
              "      <td>1,640,200</td>\n",
              "    </tr>\n",
              "    <tr>\n",
              "      <th>4</th>\n",
              "      <td>1/9/2017</td>\n",
              "      <td>806.40</td>\n",
              "      <td>809.97</td>\n",
              "      <td>802.83</td>\n",
              "      <td>806.65</td>\n",
              "      <td>1,272,400</td>\n",
              "    </tr>\n",
              "  </tbody>\n",
              "</table>\n",
              "</div>"
            ],
            "text/plain": [
              "       Date    Open    High     Low   Close     Volume\n",
              "0  1/3/2017  778.81  789.63  775.80  786.14  1,657,300\n",
              "1  1/4/2017  788.36  791.34  783.16  786.90  1,073,000\n",
              "2  1/5/2017  786.08  794.48  785.02  794.02  1,335,200\n",
              "3  1/6/2017  795.26  807.90  792.20  806.15  1,640,200\n",
              "4  1/9/2017  806.40  809.97  802.83  806.65  1,272,400"
            ]
          },
          "metadata": {
            "tags": []
          },
          "execution_count": 18
        }
      ]
    },
    {
      "cell_type": "code",
      "metadata": {
        "id": "mRAq6NSq5JhB",
        "outputId": "ddae148e-887d-4460-f4fb-3523ae69d96b",
        "colab": {
          "base_uri": "https://localhost:8080/",
          "height": 35
        }
      },
      "source": [
        "dataset_test.shape"
      ],
      "execution_count": 20,
      "outputs": [
        {
          "output_type": "execute_result",
          "data": {
            "text/plain": [
              "(20, 6)"
            ]
          },
          "metadata": {
            "tags": []
          },
          "execution_count": 20
        }
      ]
    },
    {
      "cell_type": "code",
      "metadata": {
        "id": "3ITaab675QyK"
      },
      "source": [
        "real_stock_price = dataset_test.iloc[: , 1:2].values"
      ],
      "execution_count": 21,
      "outputs": []
    },
    {
      "cell_type": "code",
      "metadata": {
        "id": "iQ7dZQg65WhE",
        "outputId": "15b59571-0c04-4960-c966-1b598683a3cc",
        "colab": {
          "base_uri": "https://localhost:8080/",
          "height": 381
        }
      },
      "source": [
        "real_stock_price"
      ],
      "execution_count": 22,
      "outputs": [
        {
          "output_type": "execute_result",
          "data": {
            "text/plain": [
              "array([[778.81],\n",
              "       [788.36],\n",
              "       [786.08],\n",
              "       [795.26],\n",
              "       [806.4 ],\n",
              "       [807.86],\n",
              "       [805.  ],\n",
              "       [807.14],\n",
              "       [807.48],\n",
              "       [807.08],\n",
              "       [805.81],\n",
              "       [805.12],\n",
              "       [806.91],\n",
              "       [807.25],\n",
              "       [822.3 ],\n",
              "       [829.62],\n",
              "       [837.81],\n",
              "       [834.71],\n",
              "       [814.66],\n",
              "       [796.86]])"
            ]
          },
          "metadata": {
            "tags": []
          },
          "execution_count": 22
        }
      ]
    },
    {
      "cell_type": "code",
      "metadata": {
        "id": "4czMiqc15Z4V"
      },
      "source": [
        "dataset_total = pd.concat((dataset_train['Open'] , dataset_test['Open']) , axis = 0)"
      ],
      "execution_count": 24,
      "outputs": []
    },
    {
      "cell_type": "code",
      "metadata": {
        "id": "Jav2MY7p5pg-",
        "outputId": "4f0dc1ca-0a43-4bab-8111-7e12047c4565",
        "colab": {
          "base_uri": "https://localhost:8080/",
          "height": 126
        }
      },
      "source": [
        "dataset_total.head()"
      ],
      "execution_count": 26,
      "outputs": [
        {
          "output_type": "execute_result",
          "data": {
            "text/plain": [
              "0    325.25\n",
              "1    331.27\n",
              "2    329.83\n",
              "3    328.34\n",
              "4    322.04\n",
              "Name: Open, dtype: float64"
            ]
          },
          "metadata": {
            "tags": []
          },
          "execution_count": 26
        }
      ]
    },
    {
      "cell_type": "code",
      "metadata": {
        "id": "JMpH0Kas5uGM",
        "outputId": "7c71363d-6b21-43b1-c40d-d472246b242c",
        "colab": {
          "base_uri": "https://localhost:8080/",
          "height": 35
        }
      },
      "source": [
        "dataset_total.shape"
      ],
      "execution_count": 27,
      "outputs": [
        {
          "output_type": "execute_result",
          "data": {
            "text/plain": [
              "(1278,)"
            ]
          },
          "metadata": {
            "tags": []
          },
          "execution_count": 27
        }
      ]
    },
    {
      "cell_type": "code",
      "metadata": {
        "id": "HF1qV5E05zGb"
      },
      "source": [
        "inputs = dataset_total[len(dataset_total)-len(dataset_test)-60: ].values"
      ],
      "execution_count": 28,
      "outputs": []
    },
    {
      "cell_type": "code",
      "metadata": {
        "id": "WylPSlXt6Dq-",
        "outputId": "61cf7b4f-115a-4fa2-9121-4bd77fcea947",
        "colab": {
          "base_uri": "https://localhost:8080/",
          "height": 199
        }
      },
      "source": [
        "inputs"
      ],
      "execution_count": 29,
      "outputs": [
        {
          "output_type": "execute_result",
          "data": {
            "text/plain": [
              "array([779.  , 779.66, 777.71, 786.66, 783.76, 781.22, 781.65, 779.8 ,\n",
              "       787.85, 798.24, 803.3 , 795.  , 804.9 , 816.68, 806.34, 801.  ,\n",
              "       808.35, 795.47, 782.89, 778.2 , 767.25, 750.66, 774.5 , 783.4 ,\n",
              "       779.94, 791.17, 756.54, 755.6 , 746.97, 755.2 , 766.92, 771.37,\n",
              "       762.61, 772.63, 767.73, 764.26, 760.  , 771.53, 770.07, 757.44,\n",
              "       744.59, 757.71, 764.73, 761.  , 772.48, 780.  , 785.04, 793.9 ,\n",
              "       797.4 , 797.34, 800.4 , 790.22, 796.76, 795.84, 792.36, 790.9 ,\n",
              "       790.68, 793.7 , 783.33, 782.75, 778.81, 788.36, 786.08, 795.26,\n",
              "       806.4 , 807.86, 805.  , 807.14, 807.48, 807.08, 805.81, 805.12,\n",
              "       806.91, 807.25, 822.3 , 829.62, 837.81, 834.71, 814.66, 796.86])"
            ]
          },
          "metadata": {
            "tags": []
          },
          "execution_count": 29
        }
      ]
    },
    {
      "cell_type": "code",
      "metadata": {
        "id": "_jiDfg0-6GIz"
      },
      "source": [
        "inputs = inputs.reshape(-1,1)"
      ],
      "execution_count": 30,
      "outputs": []
    },
    {
      "cell_type": "code",
      "metadata": {
        "id": "gtP5b6Zn6J5L",
        "outputId": "7c177fe2-39c1-4659-cd9d-ab7b5dae210b",
        "colab": {
          "base_uri": "https://localhost:8080/",
          "height": 35
        }
      },
      "source": [
        "inputs.shape"
      ],
      "execution_count": 31,
      "outputs": [
        {
          "output_type": "execute_result",
          "data": {
            "text/plain": [
              "(80, 1)"
            ]
          },
          "metadata": {
            "tags": []
          },
          "execution_count": 31
        }
      ]
    },
    {
      "cell_type": "code",
      "metadata": {
        "id": "fc9j6HJ16M0c"
      },
      "source": [
        "inputs = sc.transform(inputs)"
      ],
      "execution_count": 32,
      "outputs": []
    },
    {
      "cell_type": "code",
      "metadata": {
        "id": "m5PsIpDW6RMm",
        "outputId": "a482b534-7cca-4d74-daf6-1f7db7bb6482",
        "colab": {
          "base_uri": "https://localhost:8080/",
          "height": 35
        }
      },
      "source": [
        "inputs[0]"
      ],
      "execution_count": 33,
      "outputs": [
        {
          "output_type": "execute_result",
          "data": {
            "text/plain": [
              "array([0.9299055])"
            ]
          },
          "metadata": {
            "tags": []
          },
          "execution_count": 33
        }
      ]
    },
    {
      "cell_type": "code",
      "metadata": {
        "id": "ehtAV4uG6b3C"
      },
      "source": [
        "x_test = []\n",
        "for i in range(60,80):\n",
        "  x_test.append(inputs[i-60:i , 0])\n",
        "x_test = np.array(x_test)"
      ],
      "execution_count": 34,
      "outputs": []
    },
    {
      "cell_type": "code",
      "metadata": {
        "id": "TYpn_Uhn6sCa",
        "outputId": "5a96f944-fa96-49a3-c6ca-429f301b6a82",
        "colab": {
          "base_uri": "https://localhost:8080/",
          "height": 35
        }
      },
      "source": [
        "x_test.shape"
      ],
      "execution_count": 35,
      "outputs": [
        {
          "output_type": "execute_result",
          "data": {
            "text/plain": [
              "(20, 60)"
            ]
          },
          "metadata": {
            "tags": []
          },
          "execution_count": 35
        }
      ]
    },
    {
      "cell_type": "code",
      "metadata": {
        "id": "5uQkDsPQ6uwZ"
      },
      "source": [
        "x_test = np.reshape(x_test , (x_test.shape[0] , x_test.shape[1] , 1))"
      ],
      "execution_count": 36,
      "outputs": []
    },
    {
      "cell_type": "code",
      "metadata": {
        "id": "wQNGcPjw617Z",
        "outputId": "681435ad-63cc-49d4-db97-a8634739bfef",
        "colab": {
          "base_uri": "https://localhost:8080/",
          "height": 35
        }
      },
      "source": [
        "x_test.shape"
      ],
      "execution_count": 37,
      "outputs": [
        {
          "output_type": "execute_result",
          "data": {
            "text/plain": [
              "(20, 60, 1)"
            ]
          },
          "metadata": {
            "tags": []
          },
          "execution_count": 37
        }
      ]
    },
    {
      "cell_type": "code",
      "metadata": {
        "id": "vdwhOs0z7Clw"
      },
      "source": [
        "predicted_stock_price = regressor.predict(x_test)"
      ],
      "execution_count": 38,
      "outputs": []
    },
    {
      "cell_type": "code",
      "metadata": {
        "id": "jBnhLTLv7I3r",
        "outputId": "a21674fa-6563-4524-eb7a-3e2bc144103b",
        "colab": {
          "base_uri": "https://localhost:8080/",
          "height": 381
        }
      },
      "source": [
        "predicted_stock_price"
      ],
      "execution_count": 39,
      "outputs": [
        {
          "output_type": "execute_result",
          "data": {
            "text/plain": [
              "array([[0.95383465],\n",
              "       [0.9497634 ],\n",
              "       [0.9607526 ],\n",
              "       [0.96024466],\n",
              "       [0.9691658 ],\n",
              "       [0.9851732 ],\n",
              "       [0.9891015 ],\n",
              "       [0.9848461 ],\n",
              "       [0.9876529 ],\n",
              "       [0.9909198 ],\n",
              "       [0.99169064],\n",
              "       [0.9905497 ],\n",
              "       [0.9900588 ],\n",
              "       [0.99290884],\n",
              "       [0.99433434],\n",
              "       [1.0131923 ],\n",
              "       [1.0258633 ],\n",
              "       [1.0359977 ],\n",
              "       [1.0335191 ],\n",
              "       [1.0097803 ]], dtype=float32)"
            ]
          },
          "metadata": {
            "tags": []
          },
          "execution_count": 39
        }
      ]
    },
    {
      "cell_type": "code",
      "metadata": {
        "id": "52rTcRuv7Lwr"
      },
      "source": [
        "predicted_stock_price = sc.inverse_transform(predicted_stock_price)"
      ],
      "execution_count": 40,
      "outputs": []
    },
    {
      "cell_type": "code",
      "metadata": {
        "id": "cDHNJ_Mv7RH3",
        "outputId": "045c20d9-dc32-4fb6-c9a0-1b24c7c423f6",
        "colab": {
          "base_uri": "https://localhost:8080/",
          "height": 381
        }
      },
      "source": [
        "predicted_stock_price"
      ],
      "execution_count": 41,
      "outputs": [
        {
          "output_type": "execute_result",
          "data": {
            "text/plain": [
              "array([[791.86334],\n",
              "       [789.6748 ],\n",
              "       [795.58215],\n",
              "       [795.3091 ],\n",
              "       [800.10474],\n",
              "       [808.7097 ],\n",
              "       [810.8214 ],\n",
              "       [808.5339 ],\n",
              "       [810.04266],\n",
              "       [811.7988 ],\n",
              "       [812.2132 ],\n",
              "       [811.59985],\n",
              "       [811.336  ],\n",
              "       [812.86804],\n",
              "       [813.63434],\n",
              "       [823.7716 ],\n",
              "       [830.58307],\n",
              "       [836.03094],\n",
              "       [834.69855],\n",
              "       [821.93744]], dtype=float32)"
            ]
          },
          "metadata": {
            "tags": []
          },
          "execution_count": 41
        }
      ]
    },
    {
      "cell_type": "code",
      "metadata": {
        "id": "anxE6P087fP3",
        "outputId": "c073cf40-a1b5-42a1-c82b-c1e8333ec31c",
        "colab": {
          "base_uri": "https://localhost:8080/",
          "height": 295
        }
      },
      "source": [
        "plt.plot(real_stock_price , color='red' , label='Real Google Stock Price')\n",
        "plt.plot(predicted_stock_price , color='blue' , label = 'Predicted Google Stock Price')\n",
        "plt.title('Google Stock Price Prediction')\n",
        "plt.xlabel('Time')\n",
        "plt.ylabel('Stock Price')\n",
        "plt.legend()\n",
        "plt.show()"
      ],
      "execution_count": 43,
      "outputs": [
        {
          "output_type": "display_data",
          "data": {
            "image/png": "[encoded data removed]",
            "text/plain": [
              "<Figure size 432x288 with 1 Axes>"
            ]
          },
          "metadata": {
            "tags": [],
            "needs_background": "light"
          }
        }
      ]
    },
    {
      "cell_type": "code",
      "metadata": {
        "id": "FhX4fpi98jUh"
      },
      "source": [
        "#Thank you!!"
      ],
      "execution_count": null,
      "outputs": []
    }
  ]
}